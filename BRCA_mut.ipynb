{
 "cells": [
  {
   "cell_type": "markdown",
   "id": "a7de2a30-cbb7-474b-8a03-004de65dbfea",
   "metadata": {},
   "source": [
    "# Analysis of BRCA SNPs in a breast cancer cohort from the TCGA\n",
    "\n",
    "## Goals\n",
    "\n",
    "1. Get familiar with the open data from TCGA \n",
    "\n",
    "2. Make a clean cohort (if necessary)\n",
    "\n",
    "3. Refine goals\n",
    "\n",
    "## Questions\n",
    "\n",
    "Related to the data: \n",
    "\n",
    "- Do I have all data necessary for indels and large variants as well or only SNPs ?\n",
    "\n",
    "To the biology:\n",
    "\n",
    "- How many patient have BRCA mutations and which ones? (refine biological question later)\n"
   ]
  },
  {
   "cell_type": "markdown",
   "id": "27669e68-db35-447f-8200-cbba23d0ef3a",
   "metadata": {},
   "source": [
    "# Get familiar with the data \n",
    "\n",
    "I downloaded following data: \n",
    "\n",
    "- `gdc_sample_sheet.2023-10-30.tsv`\n",
    "\n",
    "- `biospecimen.cart.2023-10-30.tar.gz` folder containing `aliquot.tsv`, `analyte.tsv`, `portion.tsv`, `sample.tsv`, `slide.tsv`\n",
    "\n",
    "- `clinical.cart.2023-10-30.tar.gz` folder containing `clinical.tsv`, `exposure.tsv`, `family_history.tsv`, `follow_up.tsv`, `pathology_details.tsv`\n",
    "\n",
    "- `gdc_download_20231030_143204.962422.tar.gz` folder containing 1'291 subfolders\n",
    "\n",
    "- `metadata.cart.2023-10-30.json` \n",
    "\n",
    "- `gdc_manifest_20231030_143739.txt`"
   ]
  },
  {
   "cell_type": "code",
   "execution_count": 52,
   "id": "3b37e7bd-9aad-4a8b-843b-7ef21b98f300",
   "metadata": {},
   "outputs": [
    {
     "name": "stdout",
     "output_type": "stream",
     "text": [
      "Index(['File ID', 'File Name', 'Data Category', 'Data Type', 'Project ID',\n",
      "       'Case ID', 'Sample ID', 'Sample Type'],\n",
      "      dtype='object')\n",
      "(1290, 8)\n"
     ]
    },
    {
     "data": {
      "text/plain": [
       "Masked Somatic Mutation    1290\n",
       "Name: Data Type, dtype: int64"
      ]
     },
     "execution_count": 52,
     "metadata": {},
     "output_type": "execute_result"
    }
   ],
   "source": [
    "import pandas as pd\n",
    "from pathlib import Path\n",
    "\n",
    "# sample sheet\n",
    "\n",
    "path = Path(r'C:\\Users\\User\\Desktop\\Big_files\\data_2\\gdc_sample_sheet.2023-10-30.tsv')\n",
    "\n",
    "sample_sheet = pd.read_csv(path, sep='\\t')\n",
    "print(sample_sheet.columns)\n",
    "print(sample_sheet.shape)\n",
    "sample_sheet['Data Type'].value_counts()"
   ]
  },
  {
   "cell_type": "code",
   "execution_count": 53,
   "id": "31e0ece1-6fd4-4188-9aab-9f7d5b4acef3",
   "metadata": {},
   "outputs": [
    {
     "name": "stdout",
     "output_type": "stream",
     "text": [
      "Index(['data_format', 'access', 'associated_entities', 'file_name',\n",
      "       'submitter_id', 'data_category', 'annotations', 'analysis', 'file_size',\n",
      "       'md5sum', 'file_id', 'data_type', 'state', 'experimental_strategy'],\n",
      "      dtype='object')\n",
      "(1290, 14)\n"
     ]
    },
    {
     "data": {
      "text/plain": [
       "Masked Somatic Mutation    1290\n",
       "Name: data_type, dtype: int64"
      ]
     },
     "execution_count": 53,
     "metadata": {},
     "output_type": "execute_result"
    }
   ],
   "source": [
    "# metadata\n",
    "\n",
    "import json\n",
    "\n",
    "path = Path(r'C:\\Users\\User\\Desktop\\Big_files\\data_2\\metadata.cart.2023-10-30.json')\n",
    "\n",
    "with open(path, 'r') as metadata_json:\n",
    "    metadata_json = json.load(metadata_json)\n",
    "\n",
    "metadata = pd.DataFrame(metadata_json)\n",
    "\n",
    "print(metadata.columns)\n",
    "print(metadata.shape)\n",
    "metadata['data_type'].value_counts()"
   ]
  },
  {
   "cell_type": "code",
   "execution_count": null,
   "id": "a678ea4d-36d0-4054-b8af-345fb57fe7f9",
   "metadata": {},
   "outputs": [],
   "source": [
    "# working on serial file extraction with WinRAR from Command Prompt. Ideas: (1) tell windows to iterate over folders since subfolder command is not working. \n",
    "# (2) try using a python command?"
   ]
  },
  {
   "cell_type": "code",
   "execution_count": null,
   "id": "de9bd3a1-e643-4313-af07-df9519d50a4f",
   "metadata": {},
   "outputs": [],
   "source": [
    "# get files together\n",
    "\n",
    "import glob\n",
    "\n",
    "for file in glob.glob(Path(r'C:\\Users\\User\\Desktop\\Big_files\\data_2\\gdc_download_20231030_143204.962422.tar.gz\\*.*')):\n",
    "    tmp = pd.read_csv(file, sep = '\\t')\n",
    "    print(tmp)"
   ]
  },
  {
   "cell_type": "code",
   "execution_count": null,
   "id": "15921622-e319-4379-8ac3-6326f98ee3cc",
   "metadata": {},
   "outputs": [],
   "source": [
    "# \n",
    "\n",
    "for index, rows in metadata.iterrows():\n",
    "    print(rows[3])"
   ]
  }
 ],
 "metadata": {
  "kernelspec": {
   "display_name": "Python 3 (ipykernel)",
   "language": "python",
   "name": "python3"
  },
  "language_info": {
   "codemirror_mode": {
    "name": "ipython",
    "version": 3
   },
   "file_extension": ".py",
   "mimetype": "text/x-python",
   "name": "python",
   "nbconvert_exporter": "python",
   "pygments_lexer": "ipython3",
   "version": "3.9.7"
  }
 },
 "nbformat": 4,
 "nbformat_minor": 5
}
