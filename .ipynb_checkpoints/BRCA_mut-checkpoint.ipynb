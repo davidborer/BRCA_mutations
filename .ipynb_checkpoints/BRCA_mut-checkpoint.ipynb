{
 "cells": [
  {
   "cell_type": "markdown",
   "id": "a7de2a30-cbb7-474b-8a03-004de65dbfea",
   "metadata": {},
   "source": [
    "# Analysis of BRCA SNPs in a breast cancer cohort from the TCGA\n",
    "\n",
    "## Goals\n",
    "\n",
    "1. Get familiar with the open data from TCGA \n",
    "\n",
    "2. Make a clean cohort (if necessary)\n",
    "\n",
    "3. Refine goals\n",
    "\n",
    "## Questions\n",
    "\n",
    "Related to the data: \n",
    "\n",
    "- Do I have all data necessary for indels and large variants as well or only SNPs ?\n",
    "\n",
    "To the biology:\n",
    "\n",
    "- How many patient have BRCA mutations and which ones? (refine biological question later)\n"
   ]
  },
  {
   "cell_type": "markdown",
   "id": "27669e68-db35-447f-8200-cbba23d0ef3a",
   "metadata": {},
   "source": [
    "# Get familiar with the data \n",
    "\n",
    "I downloaded following data: \n",
    "\n",
    "- `gdc_sample_sheet.2023-10-20.tsv`\n",
    "\n",
    "- `biospecimen.cart.2023-10-20` folder containing `aliquot.tsv`, `analyte.tsv`, `portion.tsv`, `sample.tsv`, `slide.tsv`\n",
    "\n",
    "- `clinical.cart.2023-10-20` folder containing `clinical.tsv`, `exposure.tsv`, `family_history.tsv`, `follow_up.tsv`, `pathology_details.tsv`\n",
    "\n",
    "- `gdc_download_20231020_072722.393289` folder containing 1'291 subfolders\n",
    "\n",
    "- `metadata.cart.2023-10-20.json` \n",
    "\n",
    "- `gdc_manifest_20231020_071550.txt`"
   ]
  },
  {
   "cell_type": "code",
   "execution_count": 27,
   "id": "3b37e7bd-9aad-4a8b-843b-7ef21b98f300",
   "metadata": {},
   "outputs": [
    {
     "name": "stdout",
     "output_type": "stream",
     "text": [
      "                                File ID  \\\n",
      "0  e8d638db-fb21-4503-9b0d-659429caf30f   \n",
      "1  f1ee342a-d6e9-48c5-8bb2-21f57c5c3032   \n",
      "2  b99fb0db-3f42-4902-8d2f-304a70236abc   \n",
      "3  c637d5fe-3344-4196-b0b6-d9e8937ef630   \n",
      "4  632c85ca-cf8e-40d5-9d0d-405835921ba1   \n",
      "\n",
      "                                           File Name  \\\n",
      "0  f1a2ed57-1cbb-40b2-902c-3c8b2b2a80b0.wxs.MuTec...   \n",
      "1  8de9c4dc-f0c5-4659-b449-dea37eb31349.wxs.VarSc...   \n",
      "2  908ccefa-276a-4c2d-b334-a65c14835303.wxs.varsc...   \n",
      "3  TCGA_BRCA.7e635c29-5db2-4e1b-bc25-6f1dda635b69...   \n",
      "4  918dcdde-8cca-422f-87a3-63cbefd56f84.wxs.VarSc...   \n",
      "\n",
      "                 Data Category                    Data Type Project ID  \\\n",
      "0  Simple Nucleotide Variation   Annotated Somatic Mutation  TCGA-BRCA   \n",
      "1  Simple Nucleotide Variation   Annotated Somatic Mutation  TCGA-BRCA   \n",
      "2  Simple Nucleotide Variation  Raw Simple Somatic Mutation  TCGA-BRCA   \n",
      "3  Simple Nucleotide Variation   Annotated Somatic Mutation  TCGA-BRCA   \n",
      "4  Simple Nucleotide Variation   Annotated Somatic Mutation  TCGA-BRCA   \n",
      "\n",
      "                      Case ID                           Sample ID  \\\n",
      "0  TCGA-D8-A1XU, TCGA-D8-A1XU  TCGA-D8-A1XU-01A, TCGA-D8-A1XU-10A   \n",
      "1  TCGA-EW-A1P8, TCGA-EW-A1P8  TCGA-EW-A1P8-10A, TCGA-EW-A1P8-01A   \n",
      "2  TCGA-A2-A0YD, TCGA-A2-A0YD  TCGA-A2-A0YD-01A, TCGA-A2-A0YD-10A   \n",
      "3  TCGA-E2-A3DX, TCGA-E2-A3DX  TCGA-E2-A3DX-10A, TCGA-E2-A3DX-01A   \n",
      "4  TCGA-A2-A0YD, TCGA-A2-A0YD  TCGA-A2-A0YD-01A, TCGA-A2-A0YD-10A   \n",
      "\n",
      "                           Sample Type  \n",
      "0  Primary Tumor, Blood Derived Normal  \n",
      "1  Blood Derived Normal, Primary Tumor  \n",
      "2  Primary Tumor, Blood Derived Normal  \n",
      "3  Blood Derived Normal, Primary Tumor  \n",
      "4  Primary Tumor, Blood Derived Normal  \n"
     ]
    }
   ],
   "source": [
    "import pandas as pd\n",
    "from pathlib import Path\n",
    "\n",
    "# pathes\n",
    "\n",
    "path_sample_sheet = Path(r'C:\\Users\\User\\Desktop\\Big_files\\data_2\\gdc_sample_sheet.2023-10-20.tsv')\n",
    "\n",
    "# look at sample sheet\n",
    "\n",
    "sample_sheet = pd.read_csv(path, sep='\\t')\n",
    "print(sample_sheet.head())\n",
    "#print(sample_sheet.columns)\n"
   ]
  }
 ],
 "metadata": {
  "kernelspec": {
   "display_name": "Python 3 (ipykernel)",
   "language": "python",
   "name": "python3"
  },
  "language_info": {
   "codemirror_mode": {
    "name": "ipython",
    "version": 3
   },
   "file_extension": ".py",
   "mimetype": "text/x-python",
   "name": "python",
   "nbconvert_exporter": "python",
   "pygments_lexer": "ipython3",
   "version": "3.9.7"
  }
 },
 "nbformat": 4,
 "nbformat_minor": 5
}
